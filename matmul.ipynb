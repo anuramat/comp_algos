{
 "cells": [
  {
   "cell_type": "code",
   "execution_count": 61,
   "metadata": {},
   "outputs": [],
   "source": [
    "import numpy as np\n",
    "import time\n",
    "from matplotlib import pyplot as plt"
   ]
  },
  {
   "cell_type": "code",
   "execution_count": 62,
   "metadata": {},
   "outputs": [],
   "source": [
    "def make_them_powers(a,b):\n",
    "    # возвращает две матрицы 2**n x 2**n с минимальным n: они содержат в себе матрицы A и B, остальные элементы - нули\n",
    "    \n",
    "    assert(a.shape[1]==b.shape[0])\n",
    "    \n",
    "    max_n = np.max([*a.shape,*b.shape])\n",
    "    \n",
    "    n = np.int32(2**(np.ceil(np.log2(max_n))))\n",
    "    \n",
    "    new_a = np.zeros((n,n))\n",
    "    new_b = np.zeros((n,n))\n",
    "    \n",
    "    new_a[:a.shape[0],:a.shape[1]] = a\n",
    "    new_b[:b.shape[0],:b.shape[1]] = b\n",
    "    \n",
    "    return new_a, new_b"
   ]
  },
  {
   "cell_type": "code",
   "execution_count": 63,
   "metadata": {},
   "outputs": [],
   "source": [
    "def strassen(a,b):\n",
    "    \n",
    "    initial_shapes = [a.shape[0], a.shape[1], b.shape[0], b.shape[1]]\n",
    "    \n",
    "    if not ((len(set(initial_shapes))) and (np.log2(a.shape[0])%1==0)):\n",
    "        a,b = make_them_powers(a,b)\n",
    "    \n",
    "    n = a.shape[0]\n",
    "    \n",
    "    if n == 1:\n",
    "        return a*b\n",
    "    \n",
    "    m = n//2 # размер подматрицы\n",
    "        \n",
    "    a11 = a[:m,:m]\n",
    "    a12 = a[:m,m:]\n",
    "    a21 = a[m:,:m]\n",
    "    a22 = a[m:,m:]\n",
    "    \n",
    "    b11 = b[:m,:m]\n",
    "    b12 = b[:m,m:]\n",
    "    b21 = b[m:,:m]\n",
    "    b22 = b[m:,m:]\n",
    "    \n",
    "    p1 = strassen(a11+a22,b11+b22)\n",
    "    p2 = strassen(a21+a22,b11)\n",
    "    p3 = strassen(a11,b12-b22)\n",
    "    p4 = strassen(a22,b21-b11)\n",
    "    p5 = strassen(a11+a12,b22)\n",
    "    p6 = strassen(a21-a11,b11+b12)\n",
    "    p7 = strassen(a12-a22,b21+b22)\n",
    "    \n",
    "    c11 = p1 + p4 - p5 + p7\n",
    "    c12 = p3 + p5\n",
    "    c21 = p2 + p4\n",
    "    c22 = p1 - p2 + p3 + p6\n",
    "    \n",
    "    c = np.zeros((n,n))\n",
    "    \n",
    "    c[:m,:m] = c11\n",
    "    c[:m,m:] = c12\n",
    "    c[m:,:m] = c21\n",
    "    c[m:,m:] = c22\n",
    "    \n",
    "    return c[:initial_shapes[0],:initial_shapes[3]] # return matrix of original size"
   ]
  },
  {
   "cell_type": "code",
   "execution_count": 64,
   "metadata": {},
   "outputs": [],
   "source": [
    "def recursive(a,b):\n",
    "    \n",
    "    initial_shapes = [a.shape[0], a.shape[1], b.shape[0], b.shape[1]]\n",
    "    \n",
    "    if not ((len(set(initial_shapes))) and (np.log2(a.shape[0])%1==0)):\n",
    "        a,b = make_them_powers(a,b)\n",
    "    \n",
    "    n = a.shape[0]\n",
    "    \n",
    "    if n == 1:\n",
    "        return a*b\n",
    "    \n",
    "    m = n//2 # размер подматрицы\n",
    "        \n",
    "    a11 = a[:m,:m]\n",
    "    a12 = a[:m,m:]\n",
    "    a21 = a[m:,:m]\n",
    "    a22 = a[m:,m:]\n",
    "    \n",
    "    b11 = b[:m,:m]\n",
    "    b12 = b[:m,m:]\n",
    "    b21 = b[m:,:m]\n",
    "    b22 = b[m:,m:]\n",
    "    \n",
    "    c11 = recursive(a11,b11) + recursive(a12,b21)\n",
    "    c12 = recursive(a11,b12) + recursive(a12,b22)\n",
    "    c21 = recursive(a21,b11) + recursive(a22,b21)\n",
    "    c22 = recursive(a21,b12) + recursive(a22,b22)\n",
    "    \n",
    "    c = np.zeros((n,n))\n",
    "    \n",
    "    c[:m,:m] = c11\n",
    "    c[:m,m:] = c12\n",
    "    c[m:,:m] = c21\n",
    "    c[m:,m:] = c22\n",
    "    \n",
    "    return c[:initial_shapes[0],:initial_shapes[3]] # return matrix of original size"
   ]
  },
  {
   "cell_type": "code",
   "execution_count": 65,
   "metadata": {},
   "outputs": [],
   "source": [
    "a = np.random.rand(3,2)\n",
    "b = np.random.rand(2,3)"
   ]
  },
  {
   "cell_type": "code",
   "execution_count": 66,
   "metadata": {},
   "outputs": [
    {
     "data": {
      "text/plain": [
       "array([[0.74352517, 1.10206246, 0.87146471],\n",
       "       [0.99586409, 1.13130951, 0.72106813],\n",
       "       [0.89191891, 0.989397  , 0.61496795]])"
      ]
     },
     "execution_count": 66,
     "metadata": {},
     "output_type": "execute_result"
    }
   ],
   "source": [
    "a@b"
   ]
  },
  {
   "cell_type": "code",
   "execution_count": 67,
   "metadata": {},
   "outputs": [
    {
     "data": {
      "text/plain": [
       "array([[0.74352517, 1.10206246, 0.87146471],\n",
       "       [0.99586409, 1.13130951, 0.72106813],\n",
       "       [0.89191891, 0.989397  , 0.61496795]])"
      ]
     },
     "execution_count": 67,
     "metadata": {},
     "output_type": "execute_result"
    }
   ],
   "source": [
    "strassen(a,b)"
   ]
  },
  {
   "cell_type": "code",
   "execution_count": 68,
   "metadata": {},
   "outputs": [
    {
     "data": {
      "text/plain": [
       "array([[0.74352517, 1.10206246, 0.87146471],\n",
       "       [0.99586409, 1.13130951, 0.72106813],\n",
       "       [0.89191891, 0.989397  , 0.61496795]])"
      ]
     },
     "execution_count": 68,
     "metadata": {},
     "output_type": "execute_result"
    }
   ],
   "source": [
    "recursive(a,b)"
   ]
  },
  {
   "cell_type": "code",
   "execution_count": 93,
   "metadata": {},
   "outputs": [
    {
     "name": "stdout",
     "output_type": "stream",
     "text": [
      "2 x 2 done\n",
      "4 x 4 done\n",
      "8 x 8 done\n",
      "16 x 16 done\n",
      "32 x 32 done\n"
     ]
    }
   ],
   "source": [
    "N = 6 # number of samples to average over\n",
    "strassen_times = []\n",
    "recursive_times = []\n",
    "diff = []\n",
    "for i in range(1,N):\n",
    "    \n",
    "    total_time_strassen = 0\n",
    "    total_time_recursive = 0\n",
    "    \n",
    "    total_diff = 0\n",
    "    \n",
    "    for j in range(N):\n",
    "        rand_a = np.random.rand(2**i,2**i)\n",
    "        rand_b = np.random.rand(2**i,2**i)\n",
    "        \n",
    "        start = time.time()\n",
    "        prod1 = strassen(rand_a,rand_b)\n",
    "        end = time.time()\n",
    "        total_time_strassen+=end-start\n",
    "        \n",
    "        start = time.time()\n",
    "        prod2 = recursive(rand_a, rand_b)\n",
    "        end = time.time()\n",
    "        total_time_recursive+=end-start\n",
    "        \n",
    "        total_diff += np.sum((prod1-prod2)**2)\n",
    "        \n",
    "    print(2**i,'x',2**i,'done')\n",
    "    strassen_times.append(total_time_strassen)\n",
    "    recursive_times.append(total_time_recursive)\n",
    "    diff.append(total_diff)"
   ]
  },
  {
   "cell_type": "code",
   "execution_count": 94,
   "metadata": {},
   "outputs": [
    {
     "data": {
      "text/plain": [
       "<matplotlib.legend.Legend at 0x11b55f9a0>"
      ]
     },
     "execution_count": 94,
     "metadata": {},
     "output_type": "execute_result"
    },
    {
     "data": {
      "image/png": "[encoded data removed]",
      "text/plain": [
       "<Figure size 432x288 with 1 Axes>"
      ]
     },
     "metadata": {
      "needs_background": "light"
     },
     "output_type": "display_data"
    }
   ],
   "source": [
    "plt.plot(2**np.arange(1,6),recursive_times)\n",
    "plt.plot(2**np.arange(1,6),strassen_times)\n",
    "plt.legend(['recursive','strassen'])"
   ]
  },
  {
   "cell_type": "code",
   "execution_count": 95,
   "metadata": {},
   "outputs": [
    {
     "data": {
      "text/plain": [
       "[<matplotlib.lines.Line2D at 0x11b6c04c0>]"
      ]
     },
     "execution_count": 95,
     "metadata": {},
     "output_type": "execute_result"
    },
    {
     "data": {
      "image/png": "[encoded data removed]",
      "text/plain": [
       "<Figure size 432x288 with 1 Axes>"
      ]
     },
     "metadata": {
      "needs_background": "light"
     },
     "output_type": "display_data"
    }
   ],
   "source": [
    "plt.plot(diff)"
   ]
  }
 ],
 "metadata": {
  "kernelspec": {
   "display_name": "Python 3",
   "language": "python",
   "name": "python3"
  },
  "language_info": {
   "codemirror_mode": {
    "name": "ipython",
    "version": 3
   },
   "file_extension": ".py",
   "mimetype": "text/x-python",
   "name": "python",
   "nbconvert_exporter": "python",
   "pygments_lexer": "ipython3",
   "version": "3.8.2"
  }
 },
 "nbformat": 4,
 "nbformat_minor": 4
}
