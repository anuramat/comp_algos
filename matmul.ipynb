{
 "cells": [
  {
   "cell_type": "code",
   "execution_count": 92,
   "metadata": {},
   "outputs": [],
   "source": [
    "import numpy as np\n",
    "import time\n",
    "from matplotlib import pyplot as plt"
   ]
  },
  {
   "cell_type": "code",
   "execution_count": 110,
   "metadata": {},
   "outputs": [],
   "source": [
    "def strassen(a,b):\n",
    "    # рекурсивное вычисление произведения матриц при помощи алгоритма Штрассена   \n",
    "    # если матрица не 2**n x 2**n, то допишем нули в функции\n",
    "    if not ((a.shape[0] == a.shape[1] == b.shape[0] == b.shape[1]) and (np.log2(a.shape[0])%1==0)):\n",
    "        a,b = make_them_powers(a,b)\n",
    "    \n",
    "    n = a.shape[0]\n",
    "    \n",
    "    if n == 1:\n",
    "        return a*b\n",
    "    \n",
    "    m = n//2 # размер подматрицы\n",
    "        \n",
    "    a11 = a[:m,:m]\n",
    "    a12 = a[:m,m:]\n",
    "    a21 = a[m:,:m]\n",
    "    a22 = a[m:,m:]\n",
    "    \n",
    "    b11 = b[:m,:m]\n",
    "    b12 = b[:m,m:]\n",
    "    b21 = b[m:,:m]\n",
    "    b22 = b[m:,m:]\n",
    "    \n",
    "    p1 = strassen(a11+a22,b11+b22)\n",
    "    p2 = strassen(a21+a22,b11)\n",
    "    p3 = strassen(a11,b12-b22)\n",
    "    p4 = strassen(a22,b21-b11)\n",
    "    p5 = strassen(a11+a12,b22)\n",
    "    p6 = strassen(a21-a11,b11+b12)\n",
    "    p7 = strassen(a12-a22,b21+b22)\n",
    "    \n",
    "    c11 = p1 + p4 - p5 + p7\n",
    "    c12 = p3 + p5\n",
    "    c21 = p2 + p4\n",
    "    c22 = p1 - p2 + p3 + p6\n",
    "    \n",
    "    c = np.zeros((n,n))\n",
    "    \n",
    "    c[:m,:m] = c11\n",
    "    c[:m,m:] = c12\n",
    "    c[m:,:m] = c21\n",
    "    c[m:,m:] = c22\n",
    "    \n",
    "    return c\n",
    "\n",
    "def make_them_powers(a,b):\n",
    "    # возвращает две матрицы 2**n x 2**n с минимальным n: они содержат в себе матрицы A и B, остальные элементы - нули\n",
    "    \n",
    "    assert(a.shape[1]==b.shape[0])\n",
    "    \n",
    "    max_n = np.max([*a.shape,*b.shape])\n",
    "    \n",
    "    n = np.int32(2**(np.ceil(np.log2(max_n))))\n",
    "    \n",
    "    new_a = np.zeros((n,n))\n",
    "    new_b = np.zeros((n,n))\n",
    "    \n",
    "    new_a[:a.shape[0],:a.shape[1]] = a\n",
    "    new_b[:a.shape[0],:a.shape[1]] = b\n",
    "    \n",
    "    return new_a, new_b"
   ]
  },
  {
   "cell_type": "code",
   "execution_count": 107,
   "metadata": {},
   "outputs": [],
   "source": [
    "def dumb_recursive(a,b):\n",
    "    # рекурсивное вычисление произведения матриц при помощи алгоритма Штрассена\n",
    "    # если матрица не 2**n x 2**n, то допишем нули в функции\n",
    "    if not ((a.shape[0] == a.shape[1] == b.shape[0] == b.shape[1]) and (np.log2(a.shape[0])%1==0)):\n",
    "        a,b = make_them_powers(a,b)\n",
    "    \n",
    "    n = a.shape[0]\n",
    "    \n",
    "    if n == 1:\n",
    "        return a*b\n",
    "    \n",
    "    m = n//2 # размер подматрицы\n",
    "        \n",
    "    a11 = a[:m,:m]\n",
    "    a12 = a[:m,m:]\n",
    "    a21 = a[m:,:m]\n",
    "    a22 = a[m:,m:]\n",
    "    \n",
    "    b11 = b[:m,:m]\n",
    "    b12 = b[:m,m:]\n",
    "    b21 = b[m:,:m]\n",
    "    b22 = b[m:,m:]\n",
    "    \n",
    "    c11 = dumb_recursive(a11,b11) + dumb_recursive(a12,b21)\n",
    "    c12 = dumb_recursive(a11,b12) + dumb_recursive(a12,b22)\n",
    "    c21 = dumb_recursive(a21,b11) + dumb_recursive(a22,b21)\n",
    "    c22 = dumb_recursive(a21,b12) + dumb_recursive(a22,b22)\n",
    "    \n",
    "    c = np.zeros((n,n))\n",
    "    \n",
    "    c[:m,:m] = c11\n",
    "    c[:m,m:] = c12\n",
    "    c[m:,:m] = c21\n",
    "    c[m:,m:] = c22\n",
    "    \n",
    "    return c"
   ]
  },
  {
   "cell_type": "code",
   "execution_count": 108,
   "metadata": {},
   "outputs": [],
   "source": [
    "def dumb(a,b):    \n",
    "    m, d = a.shape\n",
    "    d1, n  = b.shape\n",
    "    \n",
    "    assert(d==d1)\n",
    "    \n",
    "    c = np.zeros((m,n))\n",
    "    \n",
    "    for i in range(m):\n",
    "        for j in range(n):\n",
    "            for k in range(d):\n",
    "                c[i,j] += a[i,k]*b[k,j]\n",
    "            \n",
    "    return c"
   ]
  },
  {
   "cell_type": "code",
   "execution_count": 147,
   "metadata": {},
   "outputs": [],
   "source": [
    "a = np.random.rand(2,2)\n",
    "b = np.random.rand(2,2)"
   ]
  },
  {
   "cell_type": "code",
   "execution_count": 148,
   "metadata": {},
   "outputs": [
    {
     "data": {
      "text/plain": [
       "array([[0.73977596, 0.81500659],\n",
       "       [0.78321811, 0.83286316]])"
      ]
     },
     "execution_count": 148,
     "metadata": {},
     "output_type": "execute_result"
    }
   ],
   "source": [
    "a@b"
   ]
  },
  {
   "cell_type": "code",
   "execution_count": 149,
   "metadata": {},
   "outputs": [
    {
     "data": {
      "text/plain": [
       "array([[0.73977596, 0.81500659],\n",
       "       [0.78321811, 0.83286316]])"
      ]
     },
     "execution_count": 149,
     "metadata": {},
     "output_type": "execute_result"
    }
   ],
   "source": [
    "strassen(a,b)"
   ]
  },
  {
   "cell_type": "code",
   "execution_count": 150,
   "metadata": {},
   "outputs": [
    {
     "data": {
      "text/plain": [
       "array([[0.73977596, 0.81500659],\n",
       "       [0.78321811, 0.83286316]])"
      ]
     },
     "execution_count": 150,
     "metadata": {},
     "output_type": "execute_result"
    }
   ],
   "source": [
    "dumb_recursive(a,b)"
   ]
  },
  {
   "cell_type": "code",
   "execution_count": 151,
   "metadata": {},
   "outputs": [
    {
     "data": {
      "text/plain": [
       "array([[0.73977596, 0.81500659],\n",
       "       [0.78321811, 0.83286316]])"
      ]
     },
     "execution_count": 151,
     "metadata": {},
     "output_type": "execute_result"
    }
   ],
   "source": [
    "dumb(a,b)"
   ]
  },
  {
   "cell_type": "code",
   "execution_count": 153,
   "metadata": {},
   "outputs": [],
   "source": [
    "strassen_times = []\n",
    "for i in range(1,6):\n",
    "    total_time = 0\n",
    "    for j in range(10):\n",
    "        rand_a = np.random.rand(2**i,2**i)\n",
    "        rand_b = np.random.rand(2**i,2**i)\n",
    "        start = time.time()\n",
    "        strassen(rand_a,rand_b)\n",
    "        end = time.time()\n",
    "        total_time+=end-start\n",
    "    strassen_times.append(total_time)"
   ]
  },
  {
   "cell_type": "code",
   "execution_count": 154,
   "metadata": {},
   "outputs": [],
   "source": [
    "dumb_recursive_times = []\n",
    "for i in range(1,6):\n",
    "    total_time = 0\n",
    "    for j in range(10):\n",
    "        rand_a = np.random.rand(2**i,2**i)\n",
    "        rand_b = np.random.rand(2**i,2**i)\n",
    "        start = time.time()\n",
    "        dumb_recursive(rand_a,rand_b)\n",
    "        end = time.time()\n",
    "        total_time+=end-start\n",
    "    dumb_recursive_times.append(total_time)"
   ]
  },
  {
   "cell_type": "code",
   "execution_count": 155,
   "metadata": {},
   "outputs": [],
   "source": [
    "dumb_times = []\n",
    "for i in range(1,6):\n",
    "    total_time = 0\n",
    "    for j in range(10):\n",
    "        rand_a = np.random.rand(2**i,2**i)\n",
    "        rand_b = np.random.rand(2**i,2**i)\n",
    "        start = time.time()\n",
    "        dumb(rand_a,rand_b)\n",
    "        end = time.time()\n",
    "        total_time+=end-start\n",
    "    dumb_times.append(total_time)"
   ]
  },
  {
   "cell_type": "code",
   "execution_count": 165,
   "metadata": {},
   "outputs": [
    {
     "data": {
      "text/plain": [
       "<matplotlib.legend.Legend at 0x171856729c8>"
      ]
     },
     "execution_count": 165,
     "metadata": {},
     "output_type": "execute_result"
    },
    {
     "data": {
      "image/png": "[encoded data removed]",
      "text/plain": [
       "<Figure size 432x288 with 1 Axes>"
      ]
     },
     "metadata": {
      "needs_background": "light"
     },
     "output_type": "display_data"
    }
   ],
   "source": [
    "plt.plot(2**np.arange(1,6),dumb_times)\n",
    "plt.plot(2**np.arange(1,6),dumb_recursive_times)\n",
    "plt.plot(2**np.arange(1,6),strassen_times)\n",
    "plt.legend(['dumb','dumb_recursive','strassen'])"
   ]
  }
 ],
 "metadata": {
  "kernelspec": {
   "display_name": "Python 3",
   "language": "python",
   "name": "python3"
  },
  "language_info": {
   "codemirror_mode": {
    "name": "ipython",
    "version": 3
   },
   "file_extension": ".py",
   "mimetype": "text/x-python",
   "name": "python",
   "nbconvert_exporter": "python",
   "pygments_lexer": "ipython3",
   "version": "3.7.6"
  }
 },
 "nbformat": 4,
 "nbformat_minor": 4
}
