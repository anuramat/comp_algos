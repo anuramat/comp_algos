{
 "cells": [
  {
   "cell_type": "code",
   "execution_count": 92,
   "metadata": {},
   "outputs": [],
   "source": [
    "import numpy as np\n",
    "import math\n",
    "mytype = np.float64"
   ]
  },
  {
   "cell_type": "code",
   "execution_count": 139,
   "metadata": {},
   "outputs": [],
   "source": [
    "def strassen(a,b):\n",
    "    # рекурсивное вычисление произведения матриц при помощи алгоритма Штрассена\n",
    "    \n",
    "    a = np.asarray(a)\n",
    "    b = np.asarray(b)\n",
    "    \n",
    "    # если матрица не 2**n x 2**n, то допишем нули в функции\n",
    "    if not ((a.shape[0] == a.shape[1] == b.shape[0] == b.shape[1]) and (math.log(a.shape[0],2)%1==0)):\n",
    "        a,b = make_them_powers(a,b)\n",
    "    \n",
    "    n = a.shape[0]\n",
    "    \n",
    "    if n == 1:\n",
    "        return a*b\n",
    "    \n",
    "    m = n//2 # размер подматрицы\n",
    "        \n",
    "    a11 = a[:m,:m]\n",
    "    a12 = a[:m,m:]\n",
    "    a21 = a[m:,:m]\n",
    "    a22 = a[m:,m:]\n",
    "    \n",
    "    b11 = b[:m,:m]\n",
    "    b12 = b[:m,m:]\n",
    "    b21 = b[m:,:m]\n",
    "    b22 = b[m:,m:]\n",
    "    \n",
    "    p1 = strassen(a11+a22,b11+b22)\n",
    "    p2 = strassen(a21+a22,b11)\n",
    "    p3 = strassen(a11,b12-b22)\n",
    "    p4 = strassen(a22,b21-b11)\n",
    "    p5 = strassen(a11+a12,b22)\n",
    "    p6 = strassen(a21-a11,b11+b12)\n",
    "    p7 = strassen(a12-a22,b21+b22)\n",
    "    \n",
    "    c11 = p1 + p4 - p5 + p7\n",
    "    c12 = p3 + p5\n",
    "    c21 = p2 + p4\n",
    "    c22 = p1 - p2 + p3 + p6\n",
    "    \n",
    "    c = np.zeros((n,n))\n",
    "    \n",
    "    c[:m,:m] = c11\n",
    "    c[:m,m:] = c12\n",
    "    c[m:,:m] = c21\n",
    "    c[m:,m:] = c22\n",
    "    \n",
    "    return c\n",
    "\n",
    "def make_them_powers(a,b):\n",
    "    # возвращает две матрицы 2**n x 2**n с минимальным n: они содержат в себе матрицы A и B, остальные элементы - нули\n",
    "    \n",
    "    a = np.asarray(a)\n",
    "    b = np.asarray(b)\n",
    "    \n",
    "    assert(a.shape[1]==b.shape[0])\n",
    "    \n",
    "    max_n = max([*a.shape,*b.shape])\n",
    "    \n",
    "    n = 2**(math.ceil(math.log(max_n,2)))\n",
    "    \n",
    "    new_a = np.zeros((n,n))\n",
    "    new_b = np.zeros((n,n))\n",
    "    \n",
    "    new_a[:a.shape[0],:a.shape[1]] = a\n",
    "    new_b[:a.shape[0],:a.shape[1]] = b\n",
    "    \n",
    "    return new_a, new_b"
   ]
  },
  {
   "cell_type": "code",
   "execution_count": 143,
   "metadata": {},
   "outputs": [],
   "source": [
    "def dumb_recursive(a,b):\n",
    "    # рекурсивное вычисление произведения матриц при помощи алгоритма Штрассена\n",
    "    \n",
    "    a = np.asarray(a)\n",
    "    b = np.asarray(b)\n",
    "    \n",
    "    # если матрица не 2**n x 2**n, то допишем нули в функции\n",
    "    if not ((a.shape[0] == a.shape[1] == b.shape[0] == b.shape[1]) and (math.log(a.shape[0],2)%1==0)):\n",
    "        a,b = make_them_powers(a,b)\n",
    "    \n",
    "    n = a.shape[0]\n",
    "    \n",
    "    if n == 1:\n",
    "        return a*b\n",
    "    \n",
    "    m = n//2 # размер подматрицы\n",
    "        \n",
    "    a11 = a[:m,:m]\n",
    "    a12 = a[:m,m:]\n",
    "    a21 = a[m:,:m]\n",
    "    a22 = a[m:,m:]\n",
    "    \n",
    "    b11 = b[:m,:m]\n",
    "    b12 = b[:m,m:]\n",
    "    b21 = b[m:,:m]\n",
    "    b22 = b[m:,m:]\n",
    "    \n",
    "    c11 = dumb_recursive(a11,b11) + dumb_recursive(a12,b21)\n",
    "    c12 = dumb_recursive(a11,b12) + dumb_recursive(a12,b22)\n",
    "    c21 = dumb_recursive(a21,b11) + dumb_recursive(a22,b21)\n",
    "    c22 = dumb_recursive(a21,b12) + dumb_recursive(a22,b22)\n",
    "    \n",
    "    c = np.zeros((n,n))\n",
    "    \n",
    "    c[:m,:m] = c11\n",
    "    c[:m,m:] = c12\n",
    "    c[m:,:m] = c21\n",
    "    c[m:,m:] = c22\n",
    "    \n",
    "    return c"
   ]
  },
  {
   "cell_type": "code",
   "execution_count": 148,
   "metadata": {},
   "outputs": [],
   "source": [
    "def dumb(a,b):\n",
    "    a = np.asarray(a)\n",
    "    b = np.asarray(b)\n",
    "    \n",
    "    m, d = a.shape\n",
    "    d1, n  = b.shape\n",
    "    \n",
    "    assert(d==d1)\n",
    "    \n",
    "    c = np.zeros((m,n))\n",
    "    \n",
    "    for i in range(m):\n",
    "        for j in range(n):\n",
    "            for k in range(d):\n",
    "                c[i,j] += a[i,k]*b[k,j]\n",
    "            \n",
    "    return c"
   ]
  },
  {
   "cell_type": "code",
   "execution_count": 140,
   "metadata": {},
   "outputs": [],
   "source": [
    "a = np.asarray([[1,3],[4,6]])\n",
    "b = np.asarray([[5,7],[4,8]])"
   ]
  },
  {
   "cell_type": "code",
   "execution_count": 141,
   "metadata": {},
   "outputs": [
    {
     "data": {
      "text/plain": [
       "array([[17, 31],\n",
       "       [44, 76]])"
      ]
     },
     "execution_count": 141,
     "metadata": {},
     "output_type": "execute_result"
    }
   ],
   "source": [
    "a@b"
   ]
  },
  {
   "cell_type": "code",
   "execution_count": 142,
   "metadata": {},
   "outputs": [
    {
     "data": {
      "text/plain": [
       "array([[17., 31.],\n",
       "       [44., 76.]])"
      ]
     },
     "execution_count": 142,
     "metadata": {},
     "output_type": "execute_result"
    }
   ],
   "source": [
    "strassen(a,b)"
   ]
  },
  {
   "cell_type": "code",
   "execution_count": 144,
   "metadata": {},
   "outputs": [
    {
     "data": {
      "text/plain": [
       "array([[17., 31.],\n",
       "       [44., 76.]])"
      ]
     },
     "execution_count": 144,
     "metadata": {},
     "output_type": "execute_result"
    }
   ],
   "source": [
    "dumb_recursive(a,b)"
   ]
  },
  {
   "cell_type": "code",
   "execution_count": 149,
   "metadata": {},
   "outputs": [
    {
     "data": {
      "text/plain": [
       "array([[17., 31.],\n",
       "       [44., 76.]])"
      ]
     },
     "execution_count": 149,
     "metadata": {},
     "output_type": "execute_result"
    }
   ],
   "source": [
    "dumb(a,b)"
   ]
  },
  {
   "cell_type": "code",
   "execution_count": 150,
   "metadata": {},
   "outputs": [
    {
     "ename": "SyntaxError",
     "evalue": "invalid syntax (<ipython-input-150-ae7cb0639050>, line 1)",
     "output_type": "error",
     "traceback": [
      "\u001b[0;36m  File \u001b[0;32m\"<ipython-input-150-ae7cb0639050>\"\u001b[0;36m, line \u001b[0;32m1\u001b[0m\n\u001b[0;31m    for i in range(5)\u001b[0m\n\u001b[0m                     ^\u001b[0m\n\u001b[0;31mSyntaxError\u001b[0m\u001b[0;31m:\u001b[0m invalid syntax\n"
     ]
    }
   ],
   "source": []
  },
  {
   "cell_type": "code",
   "execution_count": null,
   "metadata": {},
   "outputs": [],
   "source": []
  }
 ],
 "metadata": {
  "kernelspec": {
   "display_name": "Python 3",
   "language": "python",
   "name": "python3"
  },
  "language_info": {
   "codemirror_mode": {
    "name": "ipython",
    "version": 3
   },
   "file_extension": ".py",
   "mimetype": "text/x-python",
   "name": "python",
   "nbconvert_exporter": "python",
   "pygments_lexer": "ipython3",
   "version": "3.7.4"
  }
 },
 "nbformat": 4,
 "nbformat_minor": 4
}
