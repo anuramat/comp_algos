{
 "cells": [
  {
   "cell_type": "code",
   "execution_count": 71,
   "metadata": {},
   "outputs": [],
   "source": [
    "import numpy as np\n",
    "def pos_conv(a,b,m):\n",
    "    n = len(a)\n",
    "    c = np.zeros(n)\n",
    "    for i in range(n):\n",
    "        first = [a[j]*b[i-j] for j in range(0,i+1)]\n",
    "        second = [a[j]*b[n+i-j] for j in range(i+1,n)]\n",
    "        c[i] = (sum(first) + sum(second)) % m\n",
    "    return c\n",
    "        \n",
    "def neg_conv(a,b,m):\n",
    "    n = len(a)\n",
    "    c = np.zeros(n)\n",
    "    for i in range(n):\n",
    "        first = [a[j]*b[i-j] for j in range(0,i+1)]\n",
    "        second = [a[j]*b[n+i-j] for j in range(i+1,n)]\n",
    "        c[i] = (sum(first) - sum(second)) % m\n",
    "    return c"
   ]
  },
  {
   "cell_type": "markdown",
   "metadata": {},
   "source": [
    "# Задание 6"
   ]
  },
  {
   "cell_type": "code",
   "execution_count": 76,
   "metadata": {},
   "outputs": [
    {
     "data": {
      "text/plain": [
       "array([15., 14., 11., 16.])"
      ]
     },
     "execution_count": 76,
     "metadata": {},
     "output_type": "execute_result"
    }
   ],
   "source": [
    "neg_conv([0,1,2,4],[2,2,4,3],17)"
   ]
  },
  {
   "cell_type": "markdown",
   "metadata": {},
   "source": [
    "# Задание 5"
   ]
  },
  {
   "cell_type": "code",
   "execution_count": 131,
   "metadata": {},
   "outputs": [],
   "source": [
    "n = 5 # вектора длины n\n",
    "fourier = np.zeros((n,n))"
   ]
  },
  {
   "cell_type": "code",
   "execution_count": 132,
   "metadata": {},
   "outputs": [],
   "source": [
    "for i in range(n):\n",
    "    for j in range(n):\n",
    "        fourier[i,j] = 2**(i*j) % 31"
   ]
  },
  {
   "cell_type": "code",
   "execution_count": 133,
   "metadata": {},
   "outputs": [],
   "source": [
    "inv_fourier = np.zeros((n,n))"
   ]
  },
  {
   "cell_type": "code",
   "execution_count": 134,
   "metadata": {},
   "outputs": [],
   "source": [
    "for i in range(n):\n",
    "    for j in range(n):\n",
    "        inv_fourier[i,j] = 25*(16**(i*j)) % 31"
   ]
  },
  {
   "cell_type": "code",
   "execution_count": 135,
   "metadata": {},
   "outputs": [
    {
     "data": {
      "text/plain": [
       "array([[1., 0., 0., 0., 0.],\n",
       "       [0., 1., 0., 0., 0.],\n",
       "       [0., 0., 1., 0., 0.],\n",
       "       [0., 0., 0., 1., 0.],\n",
       "       [0., 0., 0., 0., 1.]])"
      ]
     },
     "execution_count": 135,
     "metadata": {},
     "output_type": "execute_result"
    }
   ],
   "source": [
    "inv_fourier @ fourier % 31"
   ]
  },
  {
   "cell_type": "code",
   "execution_count": 137,
   "metadata": {},
   "outputs": [
    {
     "data": {
      "text/plain": [
       "array([15., 11., 14.,  9., 17.])"
      ]
     },
     "execution_count": 137,
     "metadata": {},
     "output_type": "execute_result"
    }
   ],
   "source": [
    "inv_fourier @ np.asarray([4,3,3,2,1]) % 31"
   ]
  },
  {
   "cell_type": "markdown",
   "metadata": {},
   "source": [
    "# Задание 1"
   ]
  },
  {
   "cell_type": "code",
   "execution_count": 157,
   "metadata": {},
   "outputs": [],
   "source": [
    "def binary_power(x,y):\n",
    "    result = 1\n",
    "    while y > 0:\n",
    "        if y % 2 == 1:\n",
    "            result *= x\n",
    "        x*=x\n",
    "        y //= 2\n",
    "    return result\n",
    "# поскольку каждый шаг цикла мы уменьшаем степень как минимум вдвое за постоянное число операций,\n",
    "# временная сложность - O(log_2(y))"
   ]
  },
  {
   "cell_type": "code",
   "execution_count": null,
   "metadata": {},
   "outputs": [],
   "source": []
  }
 ],
 "metadata": {
  "kernelspec": {
   "display_name": "Python 3",
   "language": "python",
   "name": "python3"
  },
  "language_info": {
   "codemirror_mode": {
    "name": "ipython",
    "version": 3
   },
   "file_extension": ".py",
   "mimetype": "text/x-python",
   "name": "python",
   "nbconvert_exporter": "python",
   "pygments_lexer": "ipython3",
   "version": "3.7.4"
  }
 },
 "nbformat": 4,
 "nbformat_minor": 4
}
