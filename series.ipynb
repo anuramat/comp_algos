{
 "cells": [
  {
   "cell_type": "code",
   "execution_count": 5,
   "metadata": {},
   "outputs": [],
   "source": [
    "import numpy as np\n",
    "import matplotlib.pyplot as plt\n",
    "import numba as nb\n",
    "import time"
   ]
  },
  {
   "cell_type": "code",
   "execution_count": 6,
   "metadata": {},
   "outputs": [],
   "source": [
    "myfloat = np.float64\n",
    "\n",
    "def myplot(function, epsilon):\n",
    "    \n",
    "    x = np.arange(0.1, 1.9, 0.01)\n",
    "    y = [function(i, epsilon) for i in x]\n",
    "    \n",
    "    plt.plot(x,y)"
   ]
  },
  {
   "cell_type": "code",
   "execution_count": 7,
   "metadata": {},
   "outputs": [],
   "source": [
    "def naive_sum(z, epsilon):\n",
    "\n",
    "    z = myfloat(z)\n",
    "    epsilon = myfloat(epsilon)\n",
    "    n = np.around(1/(epsilon*0.9))\n",
    "    \n",
    "    result = myfloat(0)\n",
    "    \n",
    "    for k in np.arange(1, n):\n",
    "        result += 1/(k*k - k - z)\n",
    "    \n",
    "    return result"
   ]
  },
  {
   "cell_type": "code",
   "execution_count": 8,
   "metadata": {},
   "outputs": [],
   "source": [
    "def faster_sum(z, epsilon):\n",
    "       \n",
    "    z = myfloat(z)\n",
    "    epsilon = myfloat(epsilon)\n",
    "    n = np.around(1/(epsilon*0.9)) #TODO change n(epsilon)\n",
    "    \n",
    "    result = myfloat(np.pi*np.pi/6)\n",
    "    \n",
    "    for k in np.arange(1, n):\n",
    "        \n",
    "        result +=  ((1/(k*k-k-z))*(k*k)-1)/(k*k)\n",
    "        \n",
    "    return result"
   ]
  },
  {
   "cell_type": "code",
   "execution_count": 9,
   "metadata": {},
   "outputs": [],
   "source": [
    "@nb.jit(nopython = True)\n",
    "def faster_sum_numba(z, epsilon):\n",
    "       \n",
    "    z = myfloat(z)\n",
    "    epsilon = myfloat(epsilon)\n",
    "    n = np.around(1/(epsilon*0.9)) #TODO change n(epsilon)\n",
    "    \n",
    "    result = myfloat(np.pi*np.pi/6)\n",
    "    \n",
    "    for k in np.arange(1, n):\n",
    "        \n",
    "        result = result + ((1/(k*k-k-z))*(k*k)-1)/(k*k)\n",
    "        \n",
    "    return result"
   ]
  },
  {
   "cell_type": "code",
   "execution_count": 18,
   "metadata": {},
   "outputs": [
    {
     "data": {
      "image/png": "[encoded data removed]",
      "text/plain": [
       "<Figure size 432x288 with 1 Axes>"
      ]
     },
     "metadata": {
      "needs_background": "light"
     },
     "output_type": "display_data"
    }
   ],
   "source": [
    "myplot(faster_sum_numba,10**-6)"
   ]
  },
  {
   "cell_type": "code",
   "execution_count": 24,
   "metadata": {},
   "outputs": [
    {
     "name": "stdout",
     "output_type": "stream",
     "text": [
      "vanilla python + numpy time: 1.3997387886047363\n",
      "numba time: 0.003229856491088867\n",
      "\tspeedup: 433.3749169557836\n",
      "\n",
      "vanilla result 0.5462506241047935\n",
      "numba result 0.5462506241047935\n",
      "\tdifference in results: 0.0\n"
     ]
    }
   ],
   "source": [
    "# measure speed up from using numba\n",
    "\n",
    "# parameters\n",
    "myz = 1\n",
    "myepsilon = 10**-6\n",
    "\n",
    "# measure the vanilla python + numpy\n",
    "start = time.time()\n",
    "vr = faster_sum(myz,myepsilon)\n",
    "end = time.time()\n",
    "vt = end-start\n",
    "\n",
    "# measure jit compiled function\n",
    "start = time.time()\n",
    "nr = faster_sum_numba(myz,myepsilon)\n",
    "end = time.time()\n",
    "nt = end-start\n",
    "\n",
    "print('vanilla python + numpy time:',vt)\n",
    "print('numba time:',nt)\n",
    "print('\\tspeedup:', vt/nt)\n",
    "print('')\n",
    "print('vanilla result', vr)\n",
    "print('numba result', nr)\n",
    "print('\\tdifference in results:', vr-nr)"
   ]
  }
 ],
 "metadata": {
  "kernelspec": {
   "display_name": "Python 3",
   "language": "python",
   "name": "python3"
  },
  "language_info": {
   "codemirror_mode": {
    "name": "ipython",
    "version": 3
   },
   "file_extension": ".py",
   "mimetype": "text/x-python",
   "name": "python",
   "nbconvert_exporter": "python",
   "pygments_lexer": "ipython3",
   "version": "3.7.4"
  }
 },
 "nbformat": 4,
 "nbformat_minor": 4
}
