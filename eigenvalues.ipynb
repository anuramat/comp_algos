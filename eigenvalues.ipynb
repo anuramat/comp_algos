{
 "cells": [
  {
   "cell_type": "code",
   "execution_count": 2,
   "metadata": {},
   "outputs": [],
   "source": [
    "import numpy as np\n",
    "import matplotlib.pyplot as plt\n",
    "from time import time\n",
    "from IPython.display import clear_output"
   ]
  },
  {
   "cell_type": "code",
   "execution_count": 3,
   "metadata": {},
   "outputs": [],
   "source": [
    "def l_matrix(n=100):\n",
    "    return np.eye(n)*2 - np.eye(n,k=1) - np.eye(n,k=-1)"
   ]
  },
  {
   "cell_type": "code",
   "execution_count": 4,
   "metadata": {},
   "outputs": [],
   "source": [
    "N = 100\n",
    "the_matrix = l_matrix(N)\n",
    "the_matrix = the_matrix@the_matrix"
   ]
  },
  {
   "cell_type": "code",
   "execution_count": 5,
   "metadata": {},
   "outputs": [],
   "source": [
    "def fixed_point_iterations(A, n = 1000, initial_vector = None, ):\n",
    "    \n",
    "    if initial_vector is None:\n",
    "        initial_vector = np.random.rand(A.shape[0])\n",
    "        \n",
    "    u = np.copy(initial_vector)\n",
    "    \n",
    "    eigenvalues = []\n",
    "    \n",
    "    for i in range(n):\n",
    "        u /= np.linalg.norm(u)\n",
    "        u = A@u\n",
    "        \n",
    "        eigenvalue = np.dot(A@u, u)/np.dot(u,u)\n",
    "        eigenvalues.append(eigenvalue)\n",
    "        \n",
    "    \n",
    "    \n",
    "    return eigenvalue, np.asarray(eigenvalues)"
   ]
  },
  {
   "cell_type": "markdown",
   "metadata": {},
   "source": [
    "# Максимальное собственное число"
   ]
  },
  {
   "cell_type": "code",
   "execution_count": 6,
   "metadata": {},
   "outputs": [
    {
     "data": {
      "text/plain": [
       "15.992261452603092"
      ]
     },
     "execution_count": 6,
     "metadata": {},
     "output_type": "execute_result"
    }
   ],
   "source": [
    "# we should get:\n",
    "np.linalg.eigh(the_matrix)[0][-1]"
   ]
  },
  {
   "cell_type": "code",
   "execution_count": 7,
   "metadata": {},
   "outputs": [
    {
     "data": {
      "text/plain": [
       "15.992261452603087"
      ]
     },
     "execution_count": 7,
     "metadata": {},
     "output_type": "execute_result"
    }
   ],
   "source": [
    "fixed_point_iterations(the_matrix, 10**4)[0]"
   ]
  },
  {
   "cell_type": "code",
   "execution_count": 8,
   "metadata": {
    "scrolled": true
   },
   "outputs": [
    {
     "data": {
      "image/png": "[encoded data removed]",
      "text/plain": [
       "<Figure size 432x288 with 1 Axes>"
      ]
     },
     "metadata": {
      "needs_background": "light"
     },
     "output_type": "display_data"
    }
   ],
   "source": [
    "for i in range(50):\n",
    "    # plot current eigval on each step with different initializations\n",
    "    plt.plot(fixed_point_iterations(the_matrix, 10**4)[1][-500:])"
   ]
  },
  {
   "cell_type": "markdown",
   "metadata": {},
   "source": [
    "# Минимальное собственное число"
   ]
  },
  {
   "cell_type": "code",
   "execution_count": 9,
   "metadata": {},
   "outputs": [
    {
     "data": {
      "text/plain": [
       "9.359312824813829e-07"
      ]
     },
     "execution_count": 9,
     "metadata": {},
     "output_type": "execute_result"
    }
   ],
   "source": [
    "# we should get:\n",
    "np.linalg.eigh(the_matrix)[0][0]"
   ]
  },
  {
   "cell_type": "code",
   "execution_count": 10,
   "metadata": {},
   "outputs": [
    {
     "data": {
      "text/plain": [
       "9.359312841629089e-07"
      ]
     },
     "execution_count": 10,
     "metadata": {},
     "output_type": "execute_result"
    }
   ],
   "source": [
    "1/(fixed_point_iterations(np.linalg.inv(the_matrix), 10**4)[0])"
   ]
  },
  {
   "cell_type": "code",
   "execution_count": 11,
   "metadata": {},
   "outputs": [
    {
     "data": {
      "image/png": "[encoded data removed]",
      "text/plain": [
       "<Figure size 432x288 with 1 Axes>"
      ]
     },
     "metadata": {
      "needs_background": "light"
     },
     "output_type": "display_data"
    }
   ],
   "source": [
    "for i in range(50):\n",
    "    # plot current eigval on each step with different initializations\n",
    "    plt.plot(1/(fixed_point_iterations(np.linalg.inv(the_matrix), 10**4))[1][-500:])"
   ]
  },
  {
   "cell_type": "markdown",
   "metadata": {},
   "source": [
    "# TODO:\n",
    "add (accuracy -> num_iters)"
   ]
  },
  {
   "cell_type": "markdown",
   "metadata": {},
   "source": [
    "# Метод Якоби"
   ]
  },
  {
   "cell_type": "code",
   "execution_count": 20,
   "metadata": {},
   "outputs": [],
   "source": [
    "A = l_matrix(3)"
   ]
  },
  {
   "cell_type": "code",
   "execution_count": 12,
   "metadata": {},
   "outputs": [],
   "source": [
    "c = np.cos(np.pi/4)\n",
    "s = np.sin(np.pi/4)\n",
    "\n",
    "def get_T(A,i,j,eps=1e-6):\n",
    "    \n",
    "    n = len(A)\n",
    "    \n",
    "    T = np.eye(n)\n",
    "    \n",
    "    if A[i,i] - A[j,j] < eps:\n",
    "        \n",
    "        T[i,i] = c\n",
    "        T[i,j] = -s\n",
    "        T[j,i] = s\n",
    "        T[j,j] = c\n",
    "        \n",
    "    else:       \n",
    "        \n",
    "        tau = (A[i,i] - A[j,j]) / (2 * A[i,j])\n",
    "        t = 1 / (tau + np.sign(tau)*np.sqrt(1 + tau**2))\n",
    "        \n",
    "        cos = 1 / np.sqrt(1 + t**2)\n",
    "        sin = cos * t\n",
    "        \n",
    "        T[i,i] = cos\n",
    "        T[i,j] = -sin\n",
    "        T[j,i] = sin\n",
    "        T[j,j] = cos\n",
    "        \n",
    "    return T\n",
    "\n",
    "def Jacobi(A, eps=1e-6):\n",
    "    n = len(A)\n",
    "    while np.linalg.norm(A - np.diag(np.diag(A))) > eps:\n",
    "        for i in range(0,n-1):\n",
    "            for j in range(i+1,n):\n",
    "                T = get_T(A,i,j,eps=eps)\n",
    "                A = T.T @ A @ T\n",
    "    return A"
   ]
  },
  {
   "cell_type": "markdown",
   "metadata": {},
   "source": [
    "# optimized"
   ]
  },
  {
   "cell_type": "code",
   "execution_count": 321,
   "metadata": {},
   "outputs": [],
   "source": [
    "c = np.cos(np.pi/4)\n",
    "s = np.sin(np.pi/4)\n",
    "def get_cs(A,i,j,eps=1e-6):\n",
    "    \n",
    "    if A[i,i] - A[j,j] < eps:\n",
    "        \n",
    "        return (c,s)\n",
    "    \n",
    "    else:       \n",
    "        \n",
    "        tau = (A[i,i] - A[j,j]) / (2 * A[i,j])\n",
    "        t = 1 / (tau + np.sign(tau)*np.sqrt(1 + tau**2))\n",
    "        \n",
    "        cos = 1 / np.sqrt(1 + t**2)\n",
    "        sin = cos * t\n",
    "        \n",
    "        return (cos,sin)"
   ]
  },
  {
   "cell_type": "code",
   "execution_count": 322,
   "metadata": {},
   "outputs": [],
   "source": [
    "def Jacobi_optimized(A, eps=1e-6):\n",
    "    n = len(A)\n",
    "    while np.linalg.norm(A - np.diag(np.diag(A))) > eps:\n",
    "        for i in range(0,n-1):\n",
    "            for j in range(i+1,n):\n",
    "                \n",
    "                T = get_T_subm(A,i,j,eps=eps)\n",
    "                cos,sin = get_cs(A,i,j,eps=eps)\n",
    "                # T.T@A\n",
    "                new_A = np.copy(A)\n",
    "                T=T.T\n",
    "                new_A[i,:] = cos * A[i,:] + sin * A[j,:]\n",
    "                new_A[j,:] = -sin * A[i,:] + cos * A[j,:]\n",
    "                \n",
    "                # (T.T@A)@T\n",
    "                A = np.copy(new_A)\n",
    "                T=T.T\n",
    "                A[:,i] = new_A[:,i]*cos + new_A[:,j]*sin\n",
    "                A[:,j] = new_A[:,i]*-sin + new_A[:,j]*cos\n",
    "    return A"
   ]
  },
  {
   "cell_type": "code",
   "execution_count": 343,
   "metadata": {},
   "outputs": [],
   "source": [
    "A = l_matrix(10)"
   ]
  },
  {
   "cell_type": "code",
   "execution_count": 344,
   "metadata": {},
   "outputs": [
    {
     "name": "stdout",
     "output_type": "stream",
     "text": [
      "[3.9189859472289945, 3.682507065662363, 3.30972146789057, 2.830830026003773, 2.284629676546571, 1.7153703234534297, 1.1691699739962276, 0.69027853210943, 0.3174929343376377, 0.08101405277100547]\n"
     ]
    }
   ],
   "source": [
    "print(sorted(np.linalg.eigh(A)[0])[::-1])"
   ]
  },
  {
   "cell_type": "code",
   "execution_count": 346,
   "metadata": {},
   "outputs": [
    {
     "name": "stdout",
     "output_type": "stream",
     "text": [
      "[3.9189859472290043, 3.6825070656623704, 3.309721467890586, 2.830830026003783, 2.284629676546579, 1.7153703234534394, 1.1691699739962313, 0.6902785321094326, 0.31749293433763864, 0.08101405277100573]\n"
     ]
    }
   ],
   "source": [
    "print(sorted(np.diag(Jacobi(A)))[::-1])"
   ]
  },
  {
   "cell_type": "code",
   "execution_count": 345,
   "metadata": {},
   "outputs": [
    {
     "name": "stdout",
     "output_type": "stream",
     "text": [
      "[3.9189859472290043, 3.6825070656623704, 3.309721467890586, 2.830830026003783, 2.284629676546579, 1.7153703234534394, 1.1691699739962313, 0.6902785321094326, 0.31749293433763864, 0.08101405277100573]\n"
     ]
    }
   ],
   "source": [
    "print(sorted(np.diag(Jacobi_optimized(A)))[::-1])"
   ]
  },
  {
   "cell_type": "markdown",
   "metadata": {},
   "source": [
    "# complexity"
   ]
  },
  {
   "cell_type": "code",
   "execution_count": 407,
   "metadata": {},
   "outputs": [],
   "source": [
    "def complexity_plots(num_tests, max_size,min_size=4):\n",
    "    unmod_times = []\n",
    "    opt_times = []\n",
    "    for n in range(min_size,max_size+1):\n",
    "        clear_output()\n",
    "        print('Testing for n = %d'%n)\n",
    "        total_time_unmod = 0\n",
    "        total_time_opt = 0\n",
    "        for test in range(num_tests):\n",
    "\n",
    "            A = l_matrix(n)\n",
    "            start_time = time()\n",
    "            _ = Jacobi(A)\n",
    "            total_time_unmod += time() - start_time\n",
    "\n",
    "\n",
    "            A = l_matrix(n)\n",
    "            start_time = time()\n",
    "            _ = Jacobi_optimized(A)\n",
    "            total_time_opt += time() - start_time\n",
    "\n",
    "        unmod_times.append(total_time_unmod/num_tests)\n",
    "        opt_times.append(total_time_opt/num_tests)\n",
    "        \n",
    "        \n",
    "    #linear plot\n",
    "    plt.plot(list(range(min_size,max_size+1)),unmod_times,label='Unmodified Jacobi')\n",
    "    plt.plot(list(range(min_size,max_size+1)),opt_times,label='Optimized Jacobi')\n",
    "    plt.ylabel('Average execution time, s')\n",
    "    plt.xlabel('Matrix size, n')\n",
    "    plt.legend()\n",
    "    plt.title('Linear scale')\n",
    "    plt.show()\n",
    "\n",
    "    #loglog plot\n",
    "    plt.loglog(list(range(min_size,max_size+1)),unmod_times,label='Unmodified Jacobi')\n",
    "    plt.loglog(list(range(min_size,max_size+1)),opt_times,label='Optimized Jacobi')\n",
    "    plt.ylabel('Average execution time, s')\n",
    "    plt.xlabel('Matrix size, n')\n",
    "    plt.legend()\n",
    "    plt.title('Loglog scale')\n",
    "    plt.show()"
   ]
  },
  {
   "cell_type": "code",
   "execution_count": 409,
   "metadata": {},
   "outputs": [
    {
     "name": "stdout",
     "output_type": "stream",
     "text": [
      "Testing for n = 50\n"
     ]
    },
    {
     "data": {
      "image/png": "[encoded data removed]",
      "text/plain": [
       "<Figure size 432x288 with 1 Axes>"
      ]
     },
     "metadata": {
      "needs_background": "light"
     },
     "output_type": "display_data"
    },
    {
     "data": {
      "image/png": "[encoded data removed]",
      "text/plain": [
       "<Figure size 432x288 with 1 Axes>"
      ]
     },
     "metadata": {
      "needs_background": "light"
     },
     "output_type": "display_data"
    }
   ],
   "source": [
    "complexity_plots(num_tests=10,max_size=50,min_size=4)"
   ]
  },
  {
   "cell_type": "code",
   "execution_count": 411,
   "metadata": {},
   "outputs": [
    {
     "data": {
      "text/plain": [
       "49"
      ]
     },
     "execution_count": 411,
     "metadata": {},
     "output_type": "execute_result"
    }
   ],
   "source": [
    "len(unmod_times)"
   ]
  }
 ],
 "metadata": {
  "kernelspec": {
   "display_name": "Python 3",
   "language": "python",
   "name": "python3"
  },
  "language_info": {
   "codemirror_mode": {
    "name": "ipython",
    "version": 3
   },
   "file_extension": ".py",
   "mimetype": "text/x-python",
   "name": "python",
   "nbconvert_exporter": "python",
   "pygments_lexer": "ipython3",
   "version": "3.7.6"
  }
 },
 "nbformat": 4,
 "nbformat_minor": 4
}
