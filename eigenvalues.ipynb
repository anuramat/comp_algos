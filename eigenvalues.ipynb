{
 "cells": [
  {
   "cell_type": "code",
   "execution_count": 55,
   "metadata": {},
   "outputs": [],
   "source": [
    "import numpy as np\n",
    "import matplotlib.pyplot as plt\n",
    "import time"
   ]
  },
  {
   "cell_type": "code",
   "execution_count": 56,
   "metadata": {},
   "outputs": [],
   "source": [
    "def l_matrix(n=100):\n",
    "    result = np.identity(n)*2\n",
    "    result[1:,:-1] += -np.identity(n-1)\n",
    "    result[:-1,1:] += -np.identity(n-1)\n",
    "    return result"
   ]
  },
  {
   "cell_type": "code",
   "execution_count": 57,
   "metadata": {},
   "outputs": [],
   "source": [
    "N = 100\n",
    "the_matrix = l_matrix(N)\n",
    "the_matrix = the_matrix@the_matrix"
   ]
  },
  {
   "cell_type": "code",
   "execution_count": 209,
   "metadata": {},
   "outputs": [],
   "source": [
    "def fixed_point_iterations(A, n = 1000, initial_vector = None, ):\n",
    "    \n",
    "    if initial_vector is None:\n",
    "        initial_vector = np.random.rand(A.shape[0])\n",
    "        \n",
    "    u = np.copy(initial_vector)\n",
    "    \n",
    "    eigenvalues = []\n",
    "    \n",
    "    for i in range(n):\n",
    "        u /= np.linalg.norm(u)\n",
    "        u = A@u\n",
    "        \n",
    "        eigenvalue = np.dot(A@u, u)/np.dot(u,u)\n",
    "        eigenvalues.append(eigenvalue)\n",
    "        \n",
    "    \n",
    "    \n",
    "    return eigenvalue, np.asarray(eigenvalues)"
   ]
  },
  {
   "cell_type": "markdown",
   "metadata": {},
   "source": [
    "# Максимальное собственное число"
   ]
  },
  {
   "cell_type": "code",
   "execution_count": 68,
   "metadata": {},
   "outputs": [
    {
     "data": {
      "text/plain": [
       "15.992261452603096"
      ]
     },
     "execution_count": 68,
     "metadata": {},
     "output_type": "execute_result"
    }
   ],
   "source": [
    "# we should get:\n",
    "np.linalg.eigh(the_matrix)[0][-1]"
   ]
  },
  {
   "cell_type": "code",
   "execution_count": 61,
   "metadata": {},
   "outputs": [
    {
     "name": "stdout",
     "output_type": "stream",
     "text": [
      "15.992261452603092\n"
     ]
    }
   ],
   "source": [
    "fixed_point_iterations(the_matrix, 10**4)[0]"
   ]
  },
  {
   "cell_type": "code",
   "execution_count": 54,
   "metadata": {
    "scrolled": true
   },
   "outputs": [
    {
     "data": {
      "image/png": "[encoded data removed]",
      "text/plain": [
       "<Figure size 432x288 with 1 Axes>"
      ]
     },
     "metadata": {
      "needs_background": "light"
     },
     "output_type": "display_data"
    }
   ],
   "source": [
    "for i in range(50):\n",
    "    # plot current eigval on each step with different initializations\n",
    "    plt.plot(fixed_point_iterations(the_matrix, 10**4)[1][-500:])"
   ]
  },
  {
   "cell_type": "markdown",
   "metadata": {},
   "source": [
    "# Минимальное собственное число"
   ]
  },
  {
   "cell_type": "code",
   "execution_count": 207,
   "metadata": {},
   "outputs": [],
   "source": [
    "the_matrix_1 = np.linalg.inv(the_matrix)"
   ]
  },
  {
   "cell_type": "code",
   "execution_count": 216,
   "metadata": {},
   "outputs": [
    {
     "data": {
      "text/plain": [
       "9.359312831885286e-07"
      ]
     },
     "execution_count": 216,
     "metadata": {},
     "output_type": "execute_result"
    }
   ],
   "source": [
    "# we should get:\n",
    "np.linalg.eigh(the_matrix)[0][0]"
   ]
  },
  {
   "cell_type": "code",
   "execution_count": 208,
   "metadata": {},
   "outputs": [
    {
     "data": {
      "text/plain": [
       "9.359312841493329e-07"
      ]
     },
     "execution_count": 208,
     "metadata": {},
     "output_type": "execute_result"
    }
   ],
   "source": [
    "1/(fixed_point_iterations(the_matrix_1 + np.identity, 10**4)[0])"
   ]
  },
  {
   "cell_type": "code",
   "execution_count": 218,
   "metadata": {},
   "outputs": [
    {
     "data": {
      "image/png": "[encoded data removed]",
      "text/plain": [
       "<Figure size 432x288 with 1 Axes>"
      ]
     },
     "metadata": {
      "needs_background": "light"
     },
     "output_type": "display_data"
    }
   ],
   "source": [
    "for i in range(50):\n",
    "    # plot current eigval on each step with different initializations\n",
    "    plt.plot(1/fixed_point_iterations(the_matrix_1, 10**4)[1][-1000:])"
   ]
  }
 ],
 "metadata": {
  "kernelspec": {
   "display_name": "Python 3",
   "language": "python",
   "name": "python3"
  },
  "language_info": {
   "codemirror_mode": {
    "name": "ipython",
    "version": 3
   },
   "file_extension": ".py",
   "mimetype": "text/x-python",
   "name": "python",
   "nbconvert_exporter": "python",
   "pygments_lexer": "ipython3",
   "version": "3.8.2"
  }
 },
 "nbformat": 4,
 "nbformat_minor": 4
}
