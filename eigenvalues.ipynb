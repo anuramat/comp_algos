{
 "cells": [
  {
   "cell_type": "code",
   "execution_count": 1,
   "metadata": {},
   "outputs": [],
   "source": [
    "import numpy as np\n",
    "import matplotlib.pyplot as plt\n",
    "import time"
   ]
  },
  {
   "cell_type": "code",
   "execution_count": 4,
   "metadata": {},
   "outputs": [],
   "source": [
    "def l_matrix(n=100):\n",
    "    return np.eye(n)*2 - np.eye(n,k=1) - np.eye(n,k=-1)"
   ]
  },
  {
   "cell_type": "code",
   "execution_count": 57,
   "metadata": {},
   "outputs": [],
   "source": [
    "N = 100\n",
    "the_matrix = l_matrix(N)\n",
    "the_matrix = the_matrix@the_matrix"
   ]
  },
  {
   "cell_type": "code",
   "execution_count": 209,
   "metadata": {},
   "outputs": [],
   "source": [
    "def fixed_point_iterations(A, n = 1000, initial_vector = None, ):\n",
    "    \n",
    "    if initial_vector is None:\n",
    "        initial_vector = np.random.rand(A.shape[0])\n",
    "        \n",
    "    u = np.copy(initial_vector)\n",
    "    \n",
    "    eigenvalues = []\n",
    "    \n",
    "    for i in range(n):\n",
    "        u /= np.linalg.norm(u)\n",
    "        u = A@u\n",
    "        \n",
    "        eigenvalue = np.dot(A@u, u)/np.dot(u,u)\n",
    "        eigenvalues.append(eigenvalue)\n",
    "        \n",
    "    \n",
    "    \n",
    "    return eigenvalue, np.asarray(eigenvalues)"
   ]
  },
  {
   "cell_type": "markdown",
   "metadata": {},
   "source": [
    "# Максимальное собственное число"
   ]
  },
  {
   "cell_type": "code",
   "execution_count": 68,
   "metadata": {},
   "outputs": [
    {
     "data": {
      "text/plain": [
       "15.992261452603096"
      ]
     },
     "execution_count": 68,
     "metadata": {},
     "output_type": "execute_result"
    }
   ],
   "source": [
    "# we should get:\n",
    "np.linalg.eigh(the_matrix)[0][-1]"
   ]
  },
  {
   "cell_type": "code",
   "execution_count": 61,
   "metadata": {},
   "outputs": [
    {
     "name": "stdout",
     "output_type": "stream",
     "text": [
      "15.992261452603092\n"
     ]
    }
   ],
   "source": [
    "fixed_point_iterations(the_matrix, 10**4)[0]"
   ]
  },
  {
   "cell_type": "code",
   "execution_count": 54,
   "metadata": {
    "scrolled": true
   },
   "outputs": [
    {
     "data": {
      "image/png": "[encoded data removed]",
      "text/plain": [
       "<Figure size 432x288 with 1 Axes>"
      ]
     },
     "metadata": {
      "needs_background": "light"
     },
     "output_type": "display_data"
    }
   ],
   "source": [
    "for i in range(50):\n",
    "    # plot current eigval on each step with different initializations\n",
    "    plt.plot(fixed_point_iterations(the_matrix, 10**4)[1][-500:])"
   ]
  },
  {
   "cell_type": "markdown",
   "metadata": {},
   "source": [
    "# Минимальное собственное число"
   ]
  },
  {
   "cell_type": "code",
   "execution_count": 353,
   "metadata": {},
   "outputs": [
    {
     "data": {
      "text/plain": [
       "9.359312831885286e-07"
      ]
     },
     "execution_count": 353,
     "metadata": {},
     "output_type": "execute_result"
    }
   ],
   "source": [
    "# we should get:\n",
    "np.linalg.eigh(the_matrix)[0][0]"
   ]
  },
  {
   "cell_type": "code",
   "execution_count": 359,
   "metadata": {},
   "outputs": [
    {
     "data": {
      "text/plain": [
       "9.359312841493329e-07"
      ]
     },
     "execution_count": 359,
     "metadata": {},
     "output_type": "execute_result"
    }
   ],
   "source": [
    "1/(fixed_point_iterations(np.linalg.inv(the_matrix), 10**4)[0])"
   ]
  },
  {
   "cell_type": "code",
   "execution_count": 361,
   "metadata": {},
   "outputs": [
    {
     "data": {
      "image/png": "[encoded data removed]",
      "text/plain": [
       "<Figure size 432x288 with 1 Axes>"
      ]
     },
     "metadata": {
      "needs_background": "light"
     },
     "output_type": "display_data"
    }
   ],
   "source": [
    "for i in range(50):\n",
    "    # plot current eigval on each step with different initializations\n",
    "    plt.plot(1/(fixed_point_iterations(np.linalg.inv(the_matrix), 10**4))[1][-500:])"
   ]
  },
  {
   "cell_type": "markdown",
   "metadata": {},
   "source": [
    "# TODO:\n",
    "add (accuracy -> num_iters)"
   ]
  },
  {
   "cell_type": "markdown",
   "metadata": {},
   "source": [
    "# Метод Якоби"
   ]
  },
  {
   "cell_type": "code",
   "execution_count": 7,
   "metadata": {},
   "outputs": [],
   "source": [
    "c = np.cos(np.pi/4)\n",
    "s = np.sin(np.pi/4)\n",
    "\n",
    "def get_T(A,i,j,eps=1e-6):\n",
    "    \n",
    "    n = len(A)\n",
    "    \n",
    "    T = np.eye(n)\n",
    "    \n",
    "    if A[i,i] - A[j,j] < eps:\n",
    "        \n",
    "        T[i,i] = c\n",
    "        T[i,j] = -s\n",
    "        T[j,i] = s\n",
    "        T[j,j] = c\n",
    "        \n",
    "    else:       \n",
    "        \n",
    "        tau = (A[i,i] - A[j,j]) / (2 * A[i,j])\n",
    "        t = 1 / (tau + np.sign(tau)*np.sqrt(1 + tau**2))\n",
    "        \n",
    "        cos = 1 / np.sqrt(1 + t**2)\n",
    "        sin = cos * t\n",
    "        \n",
    "        T[i,i] = cos\n",
    "        T[i,j] = -sin\n",
    "        T[j,i] = sin\n",
    "        T[j,j] = cos\n",
    "        \n",
    "    return T\n",
    "\n",
    "def Jacobi(A, eps=1e-6):\n",
    "    n = len(A)\n",
    "    while np.linalg.norm(A - np.diag(np.diag(A))) > eps:\n",
    "        for i in range(0,n-1):\n",
    "            for j in range(i+1,n):\n",
    "                T = get_T(A,i,j)\n",
    "                A = T.T @ A @ T\n",
    "    return A"
   ]
  },
  {
   "cell_type": "code",
   "execution_count": 8,
   "metadata": {},
   "outputs": [],
   "source": [
    "A = l_matrix(10)"
   ]
  },
  {
   "cell_type": "code",
   "execution_count": 13,
   "metadata": {},
   "outputs": [
    {
     "name": "stdout",
     "output_type": "stream",
     "text": [
      "[3.9189859472289967, 3.6825070656623646, 3.309721467890576, 2.8308300260037766, 2.284629676546572]\n"
     ]
    }
   ],
   "source": [
    "print(sorted(np.diag(Jacobi(A)))[:4:-1])"
   ]
  },
  {
   "cell_type": "code",
   "execution_count": 14,
   "metadata": {},
   "outputs": [
    {
     "name": "stdout",
     "output_type": "stream",
     "text": [
      "[3.9189859472289945, 3.682507065662363, 3.30972146789057, 2.830830026003773, 2.284629676546571]\n"
     ]
    }
   ],
   "source": [
    "print(sorted(np.linalg.eigh(A)[0])[:4:-1])"
   ]
  },
  {
   "cell_type": "code",
   "execution_count": null,
   "metadata": {},
   "outputs": [],
   "source": []
  }
 ],
 "metadata": {
  "kernelspec": {
   "display_name": "Python 3",
   "language": "python",
   "name": "python3"
  },
  "language_info": {
   "codemirror_mode": {
    "name": "ipython",
    "version": 3
   },
   "file_extension": ".py",
   "mimetype": "text/x-python",
   "name": "python",
   "nbconvert_exporter": "python",
   "pygments_lexer": "ipython3",
   "version": "3.7.6"
  }
 },
 "nbformat": 4,
 "nbformat_minor": 4
}
